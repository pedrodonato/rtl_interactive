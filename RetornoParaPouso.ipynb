{
 "cells": [
  {
   "cell_type": "markdown",
   "metadata": {},
   "source": [
    "# Análise do Cenário de Retorno para Pouso no Brasil"
   ]
  },
  {
   "cell_type": "markdown",
   "metadata": {},
   "source": [
    "## Introdução\n",
    "Falhas podem ocorrer em qualquer momento depois da decolagem. \n",
    "\n",
    "Esta página permite uma visualização da exposição a este risco na aviação regular brasileira.\n",
    "\n",
    "Em resumo: **quero saber de que aeroportos com pista curta existe operação regular de aeronaves sem que exista um aeroporto de pista mais longa próximo**.\n",
    "\n",
    "## Como Usar\n",
    "1. Clique no menu Kernel.\n",
    "2. Clique em \"Restart & Run All\".\n",
    "3. Clique no botão vermelho da caixa que vai se abrir: \"Restart and Run All Cells\".\n",
    "4. Ignore o código (ou não :D ) e vá até o final da página onde aparece um mapa.\n",
    "5. Experimente mudar as opções nas duas caixas e na barra de seleção disponíveis. \n",
    "6. O mapa deve se atualizar a cada modificação das seleções.\n",
    "7. A explicação do mapa está abaixo dele."
   ]
  },
  {
   "cell_type": "code",
   "execution_count": 1,
   "metadata": {},
   "outputs": [],
   "source": [
    "import pandas as pd\n",
    "import ipywidgets as widgets\n",
    "import folium\n",
    "from ipywidgets import interact, widgets"
   ]
  },
  {
   "cell_type": "code",
   "execution_count": 2,
   "metadata": {},
   "outputs": [],
   "source": [
    "world_rwy = pd.read_csv('data/world_rwy.csv')\n",
    "database = pd.read_csv('data/database.csv')"
   ]
  },
  {
   "cell_type": "code",
   "execution_count": 3,
   "metadata": {},
   "outputs": [],
   "source": [
    "def create_map(equipamento, comp_min = '8000', dist = 100):\n",
    "    m = folium.Map(location = [-15.8267,-55.9218], zoom_start = 4, width = 600, height = 600)\n",
    "\n",
    "    for x in world_rwy[world_rwy['COMPRIMENTO_MAX'] > float(comp_min)][['LATITUDE','LONGITUDE']].values:\n",
    "        folium.vector_layers.Circle(tuple(x[0:2]), 1852*dist, stroke = False, fill_color = \"green\").add_to(m)\n",
    "\n",
    "\n",
    "    for x in database[(database['Dist_' + comp_min] > dist) & (database['Type'] == equipamento)][['LATITUDE','LONGITUDE','Cód Origem']].values:\n",
    "        folium.Marker(location=tuple(x[0:2]), tooltip = x[2], icon=folium.Icon(color='red')).add_to(m)\n",
    "\n",
    "    for x in database[((database['Dist_' + comp_min] <= dist) & (database['Dist_' + comp_min] > 0.0)) & (database['Type'] == equipamento)][['LATITUDE','LONGITUDE','Cód Origem']].values:\n",
    "        folium.Marker(location=tuple(x[0:2]), tooltip = x[2], icon=folium.Icon(color='blue')).add_to(m)\n",
    "\n",
    "    return m"
   ]
  },
  {
   "cell_type": "code",
   "execution_count": 6,
   "metadata": {},
   "outputs": [
    {
     "data": {
      "application/vnd.jupyter.widget-view+json": {
       "model_id": "7ad75a312f3f4ffe914149b3c32451c2",
       "version_major": 2,
       "version_minor": 0
      },
      "text/plain": [
       "interactive(children=(Dropdown(description='Categoria:', index=2, options=('Turboprop', 'Regional Jet', 'Narro…"
      ]
     },
     "metadata": {},
     "output_type": "display_data"
    }
   ],
   "source": [
    "# interact(create_map(equip), \n",
    "#          equip = widgets.Dropdown(\n",
    "#                     options=['Turboprop', 'Regional Jet', 'Narrow Body', 'Wide Body'],\n",
    "#                     value='Narrow Body',\n",
    "#                     description='Categoria de Avião:',\n",
    "#                     disabled=False,\n",
    "#                 ))\n",
    "         \n",
    "\n",
    "@interact\n",
    "def cria_mapa(equipamento = widgets.Dropdown(\n",
    "                                 options=['Turboprop', 'Regional Jet', 'Narrow Body', 'Wide Body'],\n",
    "                                 value='Narrow Body',\n",
    "                                 description='Categoria:',\n",
    "                                 disabled=False),\n",
    "               comprimento_pista_ft = widgets.Dropdown(\n",
    "                                 options=['4000','6000','8000','10000','12000'],\n",
    "                                 value='8000',\n",
    "                                 description='Pista [ft]',\n",
    "                                 disabled=False),\n",
    "                  dist_nm  = widgets.IntSlider(\n",
    "                                        value=200,\n",
    "                                        min=0,\n",
    "                                        max=400,\n",
    "                                        step=50,\n",
    "                                        description='Dist. [nm]:',\n",
    "                                        disabled=False,\n",
    "                                        continuous_update=False,\n",
    "                                        orientation='horizontal',\n",
    "                                        readout=True,\n",
    "                                        readout_format='d')):\n",
    "    return create_map(equipamento, comprimento_pista_ft,dist_nm)"
   ]
  },
  {
   "cell_type": "markdown",
   "metadata": {},
   "source": [
    "## O que estou vendo no mapa?\n",
    "As duas caixas de seleção permitem respectivamente selecionar:\n",
    "* a classificação das aeronaves;\n",
    "* o comprimento mínimo de pista a ser considerado.\n",
    "\n",
    "Os **círculos verdes** marcam a **distância selecionada na barra de seleção a partir de um aeroporto que tem pelo menos uma pista com comprimento maior do que o selecionado**.\n",
    "\n",
    "Os **marcadores** no mapa mostram **aeroportos com voos regulares deste tipo de aeronave cuja pista de decolagem é inferior ao valor selecionado**. Eles são pintados:\n",
    "* **azul** - se existe uma pista com comprimento mairo do que o escolhido dentro da distância escolhida\n",
    "* **vermelho** - se **não** existe uma pista com comprimento maior do que o escolhido dentro da distância escolhida \n",
    "\n",
    "\n",
    "\n"
   ]
  },
  {
   "cell_type": "markdown",
   "metadata": {},
   "source": [
    "## Como a página funciona\n",
    "\n",
    "Em resumo ela apenas plota resultados de dois databases construídos pelo autor com uma combinação dos seguintes databases públicos:\n",
    "\n",
    "* [ANAC - Cadastro de Aeródromos Privados](https://www.anac.gov.br/dadosabertos/areas-de-atuacao/aerodromos/aerodromos-cadastro-de-aerodromos-privados-csv-1)\n",
    "* [ANAC - Cadastro de Aeródromos Públicos](https://www.anac.gov.br/dadosabertos/areas-de-atuacao/aerodromos/aerodromos-cadastro-de-aerodromos-publicos-csv)\n",
    "* [ANAC - Lista de todos os serviços de transporte aéreo público registrados Vigentes](https://sistemas.anac.gov.br/sas/registros/Diario/diario.csv)\n",
    "* [Our Airports - Airports](http://ourairports.com/data/airports.csv)\n",
    "* [Our Airports - Runways](http://ourairports.com/data/runways.csv)"
   ]
  }
 ],
 "metadata": {
  "kernelspec": {
   "display_name": "Python 3",
   "language": "python",
   "name": "python3"
  },
  "language_info": {
   "codemirror_mode": {
    "name": "ipython",
    "version": 3
   },
   "file_extension": ".py",
   "mimetype": "text/x-python",
   "name": "python",
   "nbconvert_exporter": "python",
   "pygments_lexer": "ipython3",
   "version": "3.6.8"
  }
 },
 "nbformat": 4,
 "nbformat_minor": 2
}
