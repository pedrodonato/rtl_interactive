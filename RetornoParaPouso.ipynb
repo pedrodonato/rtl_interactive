{
 "cells": [
  {
   "cell_type": "code",
   "execution_count": 1,
   "metadata": {},
   "outputs": [],
   "source": [
    "import pandas as pd\n",
    "import ipywidgets as widgets\n",
    "import folium\n",
    "from ipywidgets import interact, interact_manual"
   ]
  },
  {
   "cell_type": "code",
   "execution_count": 2,
   "metadata": {},
   "outputs": [],
   "source": [
    "world_rwy = pd.read_csv('data/world_rwy.csv')\n",
    "database = pd.read_csv('data/database.csv')"
   ]
  },
  {
   "cell_type": "code",
   "execution_count": 3,
   "metadata": {},
   "outputs": [],
   "source": [
    "def create_map(equipamento, comp_min, dist):\n",
    "    m = folium.Map(location = [-15.8267,-55.9218], zoom_start = 4, width = 600, height = 600)\n",
    "\n",
    "    for x in world_rwy[world_rwy['COMPRIMENTO_MAX'] > float(comp_min)][['LATITUDE','LONGITUDE']].values:\n",
    "        folium.vector_layers.Circle(tuple(x[0:2]), 1852*dist, stroke = False, fill_color = \"green\").add_to(m)\n",
    "\n",
    "\n",
    "    for x in database[(database['Dist_' + comp_min] > dist) & (database['Type'] == equipamento)][['LATITUDE','LONGITUDE','Cód Origem']].values:\n",
    "        folium.Marker(location=tuple(x[0:2]), tooltip = x[2], icon=folium.Icon(color='red')).add_to(m)\n",
    "\n",
    "    for x in database[((database['Dist_' + comp_min] <= dist) & (database['Dist_' + comp_min] > 0.0)) & (database['Type'] == equipamento)][['LATITUDE','LONGITUDE','Cód Origem']].values:\n",
    "        folium.Marker(location=tuple(x[0:2]), tooltip = x[2], icon=folium.Icon(color='blue')).add_to(m)\n",
    "\n",
    "    return m"
   ]
  },
  {
   "cell_type": "code",
   "execution_count": 6,
   "metadata": {},
   "outputs": [
    {
     "data": {
      "application/vnd.jupyter.widget-view+json": {
       "model_id": "efb4bfa172144d64a288b7b88e6f1920",
       "version_major": 2,
       "version_minor": 0
      },
      "text/plain": [
       "interactive(children=(Dropdown(description='equipamento', options=('Turboprop', 'Regional Jet', 'Narrow Body',…"
      ]
     },
     "metadata": {},
     "output_type": "display_data"
    }
   ],
   "source": [
    "@interact\n",
    "def cria_mapa(equipamento = ['Turboprop', 'Regional Jet', 'Narrow Body', 'Wide Body'],\n",
    "               comp_min_ft = ['6000','8000','10000'], \n",
    "                  dist_nm  = (0.0, 400.0, 50.0)):\n",
    "    return create_map(equipamento, comp_min_ft,dist_nm)"
   ]
  },
  {
   "cell_type": "code",
   "execution_count": null,
   "metadata": {},
   "outputs": [],
   "source": []
  }
 ],
 "metadata": {
  "kernelspec": {
   "display_name": "Python 3",
   "language": "python",
   "name": "python3"
  },
  "language_info": {
   "codemirror_mode": {
    "name": "ipython",
    "version": 3
   },
   "file_extension": ".py",
   "mimetype": "text/x-python",
   "name": "python",
   "nbconvert_exporter": "python",
   "pygments_lexer": "ipython3",
   "version": "3.6.8"
  }
 },
 "nbformat": 4,
 "nbformat_minor": 2
}
